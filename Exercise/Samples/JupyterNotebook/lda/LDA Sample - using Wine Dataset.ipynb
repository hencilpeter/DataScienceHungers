{
 "cells": [
  {
   "cell_type": "markdown",
   "metadata": {},
   "source": [
    "### LDA Sample\n",
    "### Source :https://towardsdatascience.com/linear-discriminant-analysis-in-python-76b8b17817c2 "
   ]
  },
  {
   "cell_type": "code",
   "execution_count": 1,
   "metadata": {},
   "outputs": [],
   "source": [
    "#import libraries\n",
    "import pandas as pd\n",
    "import numpy as np\n",
    "from matplotlib import pyplot as plt\n",
    "import seaborn as sns \n",
    "from sklearn.preprocessing import LabelEncoder\n",
    "from sklearn.tree import DecisionTreeClassifier\n",
    "from sklearn.model_selection import train_test_split\n",
    "from sklearn.metrics import confusion_matrix, accuracy_score, classification_report, f1_score\n",
    "\n",
    "from sklearn.datasets import load_wine"
   ]
  },
  {
   "cell_type": "code",
   "execution_count": 2,
   "metadata": {},
   "outputs": [],
   "source": [
    "#initialization\n",
    "np.set_printoptions(precision=4)\n",
    "sns.set()"
   ]
  },
  {
   "cell_type": "code",
   "execution_count": 3,
   "metadata": {},
   "outputs": [
    {
     "name": "stdout",
     "output_type": "stream",
     "text": [
      "DS features :  ['alcohol', 'malic_acid', 'ash', 'alcalinity_of_ash', 'magnesium', 'total_phenols', 'flavanoids', 'nonflavanoid_phenols', 'proanthocyanins', 'color_intensity', 'hue', 'od280/od315_of_diluted_wines', 'proline']\n",
      "DS target classes :  ['class_0' 'class_1' 'class_2']\n"
     ]
    }
   ],
   "source": [
    "#load wine dataset\n",
    "wine_ds = load_wine()\n",
    "\n",
    "print('DS features : ', wine_ds.feature_names)\n",
    "print('DS target classes : ', wine_ds.target_names)\n"
   ]
  },
  {
   "cell_type": "code",
   "execution_count": 4,
   "metadata": {},
   "outputs": [
    {
     "name": "stdout",
     "output_type": "stream",
     "text": [
      "X shape (178, 13), Y Shape(178,)\n"
     ]
    }
   ],
   "source": [
    "# prepare dataframe object \n",
    "\n",
    "x = pd.DataFrame( data = wine_ds.data, columns=wine_ds.feature_names)\n",
    "X = x\n",
    "y = pd.Categorical.from_codes(wine_ds.target, wine_ds.target_names)\n",
    "\n",
    "print('X shape {}, Y Shape{}'.format(x.shape, y.shape))\n"
   ]
  },
  {
   "cell_type": "code",
   "execution_count": 5,
   "metadata": {},
   "outputs": [
    {
     "data": {
      "text/html": [
       "<div>\n",
       "<style scoped>\n",
       "    .dataframe tbody tr th:only-of-type {\n",
       "        vertical-align: middle;\n",
       "    }\n",
       "\n",
       "    .dataframe tbody tr th {\n",
       "        vertical-align: top;\n",
       "    }\n",
       "\n",
       "    .dataframe thead th {\n",
       "        text-align: right;\n",
       "    }\n",
       "</style>\n",
       "<table border=\"1\" class=\"dataframe\">\n",
       "  <thead>\n",
       "    <tr style=\"text-align: right;\">\n",
       "      <th></th>\n",
       "      <th>alcohol</th>\n",
       "      <th>malic_acid</th>\n",
       "      <th>ash</th>\n",
       "      <th>alcalinity_of_ash</th>\n",
       "      <th>magnesium</th>\n",
       "      <th>total_phenols</th>\n",
       "      <th>flavanoids</th>\n",
       "      <th>nonflavanoid_phenols</th>\n",
       "      <th>proanthocyanins</th>\n",
       "      <th>color_intensity</th>\n",
       "      <th>hue</th>\n",
       "      <th>od280/od315_of_diluted_wines</th>\n",
       "      <th>proline</th>\n",
       "    </tr>\n",
       "  </thead>\n",
       "  <tbody>\n",
       "    <tr>\n",
       "      <th>0</th>\n",
       "      <td>14.23</td>\n",
       "      <td>1.71</td>\n",
       "      <td>2.43</td>\n",
       "      <td>15.6</td>\n",
       "      <td>127.0</td>\n",
       "      <td>2.80</td>\n",
       "      <td>3.06</td>\n",
       "      <td>0.28</td>\n",
       "      <td>2.29</td>\n",
       "      <td>5.64</td>\n",
       "      <td>1.04</td>\n",
       "      <td>3.92</td>\n",
       "      <td>1065.0</td>\n",
       "    </tr>\n",
       "    <tr>\n",
       "      <th>1</th>\n",
       "      <td>13.20</td>\n",
       "      <td>1.78</td>\n",
       "      <td>2.14</td>\n",
       "      <td>11.2</td>\n",
       "      <td>100.0</td>\n",
       "      <td>2.65</td>\n",
       "      <td>2.76</td>\n",
       "      <td>0.26</td>\n",
       "      <td>1.28</td>\n",
       "      <td>4.38</td>\n",
       "      <td>1.05</td>\n",
       "      <td>3.40</td>\n",
       "      <td>1050.0</td>\n",
       "    </tr>\n",
       "    <tr>\n",
       "      <th>2</th>\n",
       "      <td>13.16</td>\n",
       "      <td>2.36</td>\n",
       "      <td>2.67</td>\n",
       "      <td>18.6</td>\n",
       "      <td>101.0</td>\n",
       "      <td>2.80</td>\n",
       "      <td>3.24</td>\n",
       "      <td>0.30</td>\n",
       "      <td>2.81</td>\n",
       "      <td>5.68</td>\n",
       "      <td>1.03</td>\n",
       "      <td>3.17</td>\n",
       "      <td>1185.0</td>\n",
       "    </tr>\n",
       "    <tr>\n",
       "      <th>3</th>\n",
       "      <td>14.37</td>\n",
       "      <td>1.95</td>\n",
       "      <td>2.50</td>\n",
       "      <td>16.8</td>\n",
       "      <td>113.0</td>\n",
       "      <td>3.85</td>\n",
       "      <td>3.49</td>\n",
       "      <td>0.24</td>\n",
       "      <td>2.18</td>\n",
       "      <td>7.80</td>\n",
       "      <td>0.86</td>\n",
       "      <td>3.45</td>\n",
       "      <td>1480.0</td>\n",
       "    </tr>\n",
       "    <tr>\n",
       "      <th>4</th>\n",
       "      <td>13.24</td>\n",
       "      <td>2.59</td>\n",
       "      <td>2.87</td>\n",
       "      <td>21.0</td>\n",
       "      <td>118.0</td>\n",
       "      <td>2.80</td>\n",
       "      <td>2.69</td>\n",
       "      <td>0.39</td>\n",
       "      <td>1.82</td>\n",
       "      <td>4.32</td>\n",
       "      <td>1.04</td>\n",
       "      <td>2.93</td>\n",
       "      <td>735.0</td>\n",
       "    </tr>\n",
       "  </tbody>\n",
       "</table>\n",
       "</div>"
      ],
      "text/plain": [
       "   alcohol  malic_acid   ash  alcalinity_of_ash  magnesium  total_phenols  \\\n",
       "0    14.23        1.71  2.43               15.6      127.0           2.80   \n",
       "1    13.20        1.78  2.14               11.2      100.0           2.65   \n",
       "2    13.16        2.36  2.67               18.6      101.0           2.80   \n",
       "3    14.37        1.95  2.50               16.8      113.0           3.85   \n",
       "4    13.24        2.59  2.87               21.0      118.0           2.80   \n",
       "\n",
       "   flavanoids  nonflavanoid_phenols  proanthocyanins  color_intensity   hue  \\\n",
       "0        3.06                  0.28             2.29             5.64  1.04   \n",
       "1        2.76                  0.26             1.28             4.38  1.05   \n",
       "2        3.24                  0.30             2.81             5.68  1.03   \n",
       "3        3.49                  0.24             2.18             7.80  0.86   \n",
       "4        2.69                  0.39             1.82             4.32  1.04   \n",
       "\n",
       "   od280/od315_of_diluted_wines  proline  \n",
       "0                          3.92   1065.0  \n",
       "1                          3.40   1050.0  \n",
       "2                          3.17   1185.0  \n",
       "3                          3.45   1480.0  \n",
       "4                          2.93    735.0  "
      ]
     },
     "execution_count": 5,
     "metadata": {},
     "output_type": "execute_result"
    }
   ],
   "source": [
    "# print the data\n",
    "x.head()"
   ]
  },
  {
   "cell_type": "code",
   "execution_count": 6,
   "metadata": {},
   "outputs": [
    {
     "data": {
      "text/html": [
       "<div>\n",
       "<style scoped>\n",
       "    .dataframe tbody tr th:only-of-type {\n",
       "        vertical-align: middle;\n",
       "    }\n",
       "\n",
       "    .dataframe tbody tr th {\n",
       "        vertical-align: top;\n",
       "    }\n",
       "\n",
       "    .dataframe thead th {\n",
       "        text-align: right;\n",
       "    }\n",
       "</style>\n",
       "<table border=\"1\" class=\"dataframe\">\n",
       "  <thead>\n",
       "    <tr style=\"text-align: right;\">\n",
       "      <th></th>\n",
       "      <th>0</th>\n",
       "    </tr>\n",
       "  </thead>\n",
       "  <tbody>\n",
       "    <tr>\n",
       "      <th>0</th>\n",
       "      <td>class_0</td>\n",
       "    </tr>\n",
       "    <tr>\n",
       "      <th>1</th>\n",
       "      <td>class_0</td>\n",
       "    </tr>\n",
       "    <tr>\n",
       "      <th>2</th>\n",
       "      <td>class_0</td>\n",
       "    </tr>\n",
       "    <tr>\n",
       "      <th>3</th>\n",
       "      <td>class_0</td>\n",
       "    </tr>\n",
       "    <tr>\n",
       "      <th>4</th>\n",
       "      <td>class_0</td>\n",
       "    </tr>\n",
       "  </tbody>\n",
       "</table>\n",
       "</div>"
      ],
      "text/plain": [
       "         0\n",
       "0  class_0\n",
       "1  class_0\n",
       "2  class_0\n",
       "3  class_0\n",
       "4  class_0"
      ]
     },
     "execution_count": 6,
     "metadata": {},
     "output_type": "execute_result"
    }
   ],
   "source": [
    "pd.DataFrame(data=y).head()"
   ]
  },
  {
   "cell_type": "code",
   "execution_count": 7,
   "metadata": {},
   "outputs": [
    {
     "data": {
      "text/html": [
       "<div>\n",
       "<style scoped>\n",
       "    .dataframe tbody tr th:only-of-type {\n",
       "        vertical-align: middle;\n",
       "    }\n",
       "\n",
       "    .dataframe tbody tr th {\n",
       "        vertical-align: top;\n",
       "    }\n",
       "\n",
       "    .dataframe thead th {\n",
       "        text-align: right;\n",
       "    }\n",
       "</style>\n",
       "<table border=\"1\" class=\"dataframe\">\n",
       "  <thead>\n",
       "    <tr style=\"text-align: right;\">\n",
       "      <th></th>\n",
       "      <th>alcohol</th>\n",
       "      <th>malic_acid</th>\n",
       "      <th>ash</th>\n",
       "      <th>alcalinity_of_ash</th>\n",
       "      <th>magnesium</th>\n",
       "      <th>total_phenols</th>\n",
       "      <th>flavanoids</th>\n",
       "      <th>nonflavanoid_phenols</th>\n",
       "      <th>proanthocyanins</th>\n",
       "      <th>color_intensity</th>\n",
       "      <th>hue</th>\n",
       "      <th>od280/od315_of_diluted_wines</th>\n",
       "      <th>proline</th>\n",
       "      <th>class</th>\n",
       "    </tr>\n",
       "  </thead>\n",
       "  <tbody>\n",
       "    <tr>\n",
       "      <th>0</th>\n",
       "      <td>14.23</td>\n",
       "      <td>1.71</td>\n",
       "      <td>2.43</td>\n",
       "      <td>15.6</td>\n",
       "      <td>127.0</td>\n",
       "      <td>2.80</td>\n",
       "      <td>3.06</td>\n",
       "      <td>0.28</td>\n",
       "      <td>2.29</td>\n",
       "      <td>5.64</td>\n",
       "      <td>1.04</td>\n",
       "      <td>3.92</td>\n",
       "      <td>1065.0</td>\n",
       "      <td>class_0</td>\n",
       "    </tr>\n",
       "    <tr>\n",
       "      <th>1</th>\n",
       "      <td>13.20</td>\n",
       "      <td>1.78</td>\n",
       "      <td>2.14</td>\n",
       "      <td>11.2</td>\n",
       "      <td>100.0</td>\n",
       "      <td>2.65</td>\n",
       "      <td>2.76</td>\n",
       "      <td>0.26</td>\n",
       "      <td>1.28</td>\n",
       "      <td>4.38</td>\n",
       "      <td>1.05</td>\n",
       "      <td>3.40</td>\n",
       "      <td>1050.0</td>\n",
       "      <td>class_0</td>\n",
       "    </tr>\n",
       "    <tr>\n",
       "      <th>2</th>\n",
       "      <td>13.16</td>\n",
       "      <td>2.36</td>\n",
       "      <td>2.67</td>\n",
       "      <td>18.6</td>\n",
       "      <td>101.0</td>\n",
       "      <td>2.80</td>\n",
       "      <td>3.24</td>\n",
       "      <td>0.30</td>\n",
       "      <td>2.81</td>\n",
       "      <td>5.68</td>\n",
       "      <td>1.03</td>\n",
       "      <td>3.17</td>\n",
       "      <td>1185.0</td>\n",
       "      <td>class_0</td>\n",
       "    </tr>\n",
       "    <tr>\n",
       "      <th>3</th>\n",
       "      <td>14.37</td>\n",
       "      <td>1.95</td>\n",
       "      <td>2.50</td>\n",
       "      <td>16.8</td>\n",
       "      <td>113.0</td>\n",
       "      <td>3.85</td>\n",
       "      <td>3.49</td>\n",
       "      <td>0.24</td>\n",
       "      <td>2.18</td>\n",
       "      <td>7.80</td>\n",
       "      <td>0.86</td>\n",
       "      <td>3.45</td>\n",
       "      <td>1480.0</td>\n",
       "      <td>class_0</td>\n",
       "    </tr>\n",
       "    <tr>\n",
       "      <th>4</th>\n",
       "      <td>13.24</td>\n",
       "      <td>2.59</td>\n",
       "      <td>2.87</td>\n",
       "      <td>21.0</td>\n",
       "      <td>118.0</td>\n",
       "      <td>2.80</td>\n",
       "      <td>2.69</td>\n",
       "      <td>0.39</td>\n",
       "      <td>1.82</td>\n",
       "      <td>4.32</td>\n",
       "      <td>1.04</td>\n",
       "      <td>2.93</td>\n",
       "      <td>735.0</td>\n",
       "      <td>class_0</td>\n",
       "    </tr>\n",
       "  </tbody>\n",
       "</table>\n",
       "</div>"
      ],
      "text/plain": [
       "   alcohol  malic_acid   ash  alcalinity_of_ash  magnesium  total_phenols  \\\n",
       "0    14.23        1.71  2.43               15.6      127.0           2.80   \n",
       "1    13.20        1.78  2.14               11.2      100.0           2.65   \n",
       "2    13.16        2.36  2.67               18.6      101.0           2.80   \n",
       "3    14.37        1.95  2.50               16.8      113.0           3.85   \n",
       "4    13.24        2.59  2.87               21.0      118.0           2.80   \n",
       "\n",
       "   flavanoids  nonflavanoid_phenols  proanthocyanins  color_intensity   hue  \\\n",
       "0        3.06                  0.28             2.29             5.64  1.04   \n",
       "1        2.76                  0.26             1.28             4.38  1.05   \n",
       "2        3.24                  0.30             2.81             5.68  1.03   \n",
       "3        3.49                  0.24             2.18             7.80  0.86   \n",
       "4        2.69                  0.39             1.82             4.32  1.04   \n",
       "\n",
       "   od280/od315_of_diluted_wines  proline    class  \n",
       "0                          3.92   1065.0  class_0  \n",
       "1                          3.40   1050.0  class_0  \n",
       "2                          3.17   1185.0  class_0  \n",
       "3                          3.45   1480.0  class_0  \n",
       "4                          2.93    735.0  class_0  "
      ]
     },
     "execution_count": 7,
     "metadata": {},
     "output_type": "execute_result"
    }
   ],
   "source": [
    "#combine X and Y\n",
    "wine_ds_df = x.join(pd.Series(data=y, name='class'))\n",
    "wine_ds_df.head()\n"
   ]
  },
  {
   "cell_type": "markdown",
   "metadata": {},
   "source": [
    "### LDA - Steps\n"
   ]
  },
  {
   "cell_type": "code",
   "execution_count": 8,
   "metadata": {},
   "outputs": [
    {
     "data": {
      "text/html": [
       "<div>\n",
       "<style scoped>\n",
       "    .dataframe tbody tr th:only-of-type {\n",
       "        vertical-align: middle;\n",
       "    }\n",
       "\n",
       "    .dataframe tbody tr th {\n",
       "        vertical-align: top;\n",
       "    }\n",
       "\n",
       "    .dataframe thead th {\n",
       "        text-align: right;\n",
       "    }\n",
       "</style>\n",
       "<table border=\"1\" class=\"dataframe\">\n",
       "  <thead>\n",
       "    <tr style=\"text-align: right;\">\n",
       "      <th></th>\n",
       "      <th>class_0</th>\n",
       "      <th>class_1</th>\n",
       "      <th>class_2</th>\n",
       "    </tr>\n",
       "  </thead>\n",
       "  <tbody>\n",
       "    <tr>\n",
       "      <th>alcohol</th>\n",
       "      <td>13.744746</td>\n",
       "      <td>12.278732</td>\n",
       "      <td>13.153750</td>\n",
       "    </tr>\n",
       "    <tr>\n",
       "      <th>malic_acid</th>\n",
       "      <td>2.010678</td>\n",
       "      <td>1.932676</td>\n",
       "      <td>3.333750</td>\n",
       "    </tr>\n",
       "    <tr>\n",
       "      <th>ash</th>\n",
       "      <td>2.455593</td>\n",
       "      <td>2.244789</td>\n",
       "      <td>2.437083</td>\n",
       "    </tr>\n",
       "    <tr>\n",
       "      <th>alcalinity_of_ash</th>\n",
       "      <td>17.037288</td>\n",
       "      <td>20.238028</td>\n",
       "      <td>21.416667</td>\n",
       "    </tr>\n",
       "    <tr>\n",
       "      <th>magnesium</th>\n",
       "      <td>106.338983</td>\n",
       "      <td>94.549296</td>\n",
       "      <td>99.312500</td>\n",
       "    </tr>\n",
       "    <tr>\n",
       "      <th>total_phenols</th>\n",
       "      <td>2.840169</td>\n",
       "      <td>2.258873</td>\n",
       "      <td>1.678750</td>\n",
       "    </tr>\n",
       "    <tr>\n",
       "      <th>flavanoids</th>\n",
       "      <td>2.982373</td>\n",
       "      <td>2.080845</td>\n",
       "      <td>0.781458</td>\n",
       "    </tr>\n",
       "    <tr>\n",
       "      <th>nonflavanoid_phenols</th>\n",
       "      <td>0.290000</td>\n",
       "      <td>0.363662</td>\n",
       "      <td>0.447500</td>\n",
       "    </tr>\n",
       "    <tr>\n",
       "      <th>proanthocyanins</th>\n",
       "      <td>1.899322</td>\n",
       "      <td>1.630282</td>\n",
       "      <td>1.153542</td>\n",
       "    </tr>\n",
       "    <tr>\n",
       "      <th>color_intensity</th>\n",
       "      <td>5.528305</td>\n",
       "      <td>3.086620</td>\n",
       "      <td>7.396250</td>\n",
       "    </tr>\n",
       "    <tr>\n",
       "      <th>hue</th>\n",
       "      <td>1.062034</td>\n",
       "      <td>1.056282</td>\n",
       "      <td>0.682708</td>\n",
       "    </tr>\n",
       "    <tr>\n",
       "      <th>od280/od315_of_diluted_wines</th>\n",
       "      <td>3.157797</td>\n",
       "      <td>2.785352</td>\n",
       "      <td>1.683542</td>\n",
       "    </tr>\n",
       "    <tr>\n",
       "      <th>proline</th>\n",
       "      <td>1115.711864</td>\n",
       "      <td>519.507042</td>\n",
       "      <td>629.895833</td>\n",
       "    </tr>\n",
       "  </tbody>\n",
       "</table>\n",
       "</div>"
      ],
      "text/plain": [
       "                                  class_0     class_1     class_2\n",
       "alcohol                         13.744746   12.278732   13.153750\n",
       "malic_acid                       2.010678    1.932676    3.333750\n",
       "ash                              2.455593    2.244789    2.437083\n",
       "alcalinity_of_ash               17.037288   20.238028   21.416667\n",
       "magnesium                      106.338983   94.549296   99.312500\n",
       "total_phenols                    2.840169    2.258873    1.678750\n",
       "flavanoids                       2.982373    2.080845    0.781458\n",
       "nonflavanoid_phenols             0.290000    0.363662    0.447500\n",
       "proanthocyanins                  1.899322    1.630282    1.153542\n",
       "color_intensity                  5.528305    3.086620    7.396250\n",
       "hue                              1.062034    1.056282    0.682708\n",
       "od280/od315_of_diluted_wines     3.157797    2.785352    1.683542\n",
       "proline                       1115.711864  519.507042  629.895833"
      ]
     },
     "execution_count": 8,
     "metadata": {},
     "output_type": "execute_result"
    }
   ],
   "source": [
    "#compute mean vector for each class\n",
    "#empty data frame with column names\n",
    "class_feature_means = pd.DataFrame(columns=wine_ds.target_names)\n",
    "\n",
    "for index, rows in wine_ds_df.groupby('class'):\n",
    "    class_feature_means[index] = rows.mean()\n",
    "    \n",
    "class_feature_means"
   ]
  },
  {
   "cell_type": "code",
   "execution_count": 9,
   "metadata": {},
   "outputs": [],
   "source": [
    "#Within class scatter matrix \n",
    "within_class_scatter_matrix = np.zeros((13,13))\n",
    "\n",
    "for indexOuter, rows in wine_ds_df.groupby('class'):\n",
    "    rows = rows.drop(['class'], axis=1)\n",
    "    s = np.zeros((13,13))\n",
    "     \n",
    "    #need to make the below change\n",
    "    # mc = class_feature_means[indexOuter].values.reshape(13,1) \n",
    "    for indexInner, row in rows.iterrows():\n",
    "        x, mc = row.values.reshape(13,1), class_feature_means[indexOuter].values.reshape(13,1)\n",
    "        s += (x-mc).dot((x-mc).T)\n",
    "    within_class_scatter_matrix += s"
   ]
  },
  {
   "cell_type": "code",
   "execution_count": 10,
   "metadata": {},
   "outputs": [
    {
     "data": {
      "text/plain": [
       "array([[ 4.5859e+01,  1.4303e+00, -2.3291e+00, -1.7013e+01,  3.1383e+00,\n",
       "         4.7422e+00,  3.9605e+00, -1.7072e-01,  2.9350e+00,  4.3130e+01,\n",
       "         1.3687e-01, -8.7244e-01,  2.1415e+03],\n",
       "       [ 1.4303e+00,  1.5532e+02,  3.7434e+00,  7.2582e+01, -1.5563e+02,\n",
       "        -2.5349e+00, -1.6466e+00,  1.7807e+00,  3.0105e+00, -4.5273e+01,\n",
       "        -7.3732e+00,  8.1426e+00, -5.7852e+03],\n",
       "       [-2.3291e+00,  3.7434e+00,  1.1563e+01,  8.4728e+01,  1.2067e+02,\n",
       "         2.8298e+00,  5.2449e+00,  1.2286e+00,  4.6912e-01,  1.7140e+00,\n",
       "         4.0639e-01,  1.9095e+00, -8.7672e+01],\n",
       "       [-1.7013e+01,  7.2582e+01,  8.4728e+01,  1.4012e+03,  5.6662e+02,\n",
       "         1.9008e+01,  4.3123e+01,  8.2101e+00,  1.6227e+01, -1.7814e+01,\n",
       "        -1.7204e+00,  3.9486e+01, -5.7458e+03],\n",
       "       [ 3.1383e+00, -1.5563e+02,  1.2067e+02,  5.6662e+02,  3.1615e+04,\n",
       "         1.0100e+02,  1.1670e+02, -5.0235e+01,  2.2757e+02,  3.1017e+02,\n",
       "         2.2078e+01, -4.9198e+01,  8.3344e+04],\n",
       "       [ 4.7422e+00, -2.5349e+00,  2.8298e+00,  1.9008e+01,  1.0100e+02,\n",
       "         3.3472e+01,  2.8229e+01, -1.3538e+00,  1.6073e+01,  3.4822e+01,\n",
       "        -2.5642e-01,  1.0476e+01,  1.4692e+03],\n",
       "       [ 3.9605e+00, -1.6466e+00,  5.2449e+00,  4.3123e+01,  1.1670e+02,\n",
       "         2.8229e+01,  4.8074e+01, -2.6717e+00,  2.2364e+01,  5.0169e+01,\n",
       "        -7.3611e-01,  1.1876e+01,  5.9950e+02],\n",
       "       [-1.7072e-01,  1.7807e+00,  1.2286e+00,  8.2101e+00, -5.0235e+01,\n",
       "        -1.3538e+00, -2.6717e+00,  2.0845e+00, -1.5121e+00, -2.6437e-01,\n",
       "         2.3775e-01, -1.7626e+00, -8.6304e+01],\n",
       "       [ 2.9350e+00,  3.0105e+00,  4.6912e-01,  1.6227e+01,  2.2757e+02,\n",
       "         1.6073e+01,  2.2364e+01, -1.5121e+00,  4.3080e+01,  4.0111e+01,\n",
       "        -1.1035e+00,  7.4273e+00,  2.0094e+03],\n",
       "       [ 4.3130e+01, -4.5273e+01,  1.7140e+00, -1.7814e+01,  3.1017e+02,\n",
       "         3.4822e+01,  5.0169e+01, -2.6437e-01,  4.0111e+01,  3.9986e+02,\n",
       "        -7.1743e+00, -1.1603e+01,  1.1916e+04],\n",
       "       [ 1.3687e-01, -7.3732e+00,  4.0639e-01, -1.7204e+00,  2.2078e+01,\n",
       "        -2.5642e-01, -7.3611e-01,  2.3775e-01, -1.1035e+00, -7.1743e+00,\n",
       "         4.2853e+00, -5.8574e-01,  7.8593e+02],\n",
       "       [-8.7244e-01,  8.1426e+00,  1.9095e+00,  3.9486e+01, -4.9198e+01,\n",
       "         1.0476e+01,  1.1876e+01, -1.7626e+00,  7.4273e+00, -1.1603e+01,\n",
       "        -5.8574e-01,  2.8136e+01, -1.9150e+03],\n",
       "       [ 2.1415e+03, -5.7852e+03, -8.7672e+01, -5.7458e+03,  8.3344e+04,\n",
       "         1.4692e+03,  5.9950e+02, -8.6304e+01,  2.0094e+03,  1.1916e+04,\n",
       "         7.8593e+02, -1.9150e+03,  5.1988e+06]])"
      ]
     },
     "execution_count": 10,
     "metadata": {},
     "output_type": "execute_result"
    }
   ],
   "source": [
    "within_class_scatter_matrix"
   ]
  },
  {
   "cell_type": "code",
   "execution_count": 11,
   "metadata": {},
   "outputs": [],
   "source": [
    "#Between class matrix \n",
    "feature_means = wine_ds_df.mean()\n",
    "between_class_scatter_matrix = np.zeros((13,13))\n",
    "\n",
    "for mean in class_feature_means:\n",
    "    n = len(wine_ds_df.loc[wine_ds_df['class'] == mean ].index)\n",
    "    mc, m = class_feature_means[mean].values.reshape(13,1), feature_means.values.reshape(13,1)\n",
    "    \n",
    "    between_class_scatter_matrix += n * (mc - m).dot((mc-m).T)"
   ]
  },
  {
   "cell_type": "code",
   "execution_count": 12,
   "metadata": {},
   "outputs": [
    {
     "data": {
      "text/plain": [
       "alcohol                          13.000618\n",
       "malic_acid                        2.336348\n",
       "ash                               2.366517\n",
       "alcalinity_of_ash                19.494944\n",
       "magnesium                        99.741573\n",
       "total_phenols                     2.295112\n",
       "flavanoids                        2.029270\n",
       "nonflavanoid_phenols              0.361854\n",
       "proanthocyanins                   1.590899\n",
       "color_intensity                   5.058090\n",
       "hue                               0.957449\n",
       "od280/od315_of_diluted_wines      2.611685\n",
       "proline                         746.893258\n",
       "dtype: float64"
      ]
     },
     "execution_count": 12,
     "metadata": {},
     "output_type": "execute_result"
    }
   ],
   "source": [
    "feature_means"
   ]
  },
  {
   "cell_type": "code",
   "execution_count": 13,
   "metadata": {},
   "outputs": [
    {
     "data": {
      "text/plain": [
       "array([[ 7.0795e+01,  1.3723e+01,  1.0668e+01, -1.3186e+02,  5.5262e+02,\n",
       "         2.1257e+01,  3.0029e+01, -2.6178e+00,  8.3076e+00,  1.3888e+02,\n",
       "        -2.4933e+00,  8.2530e+00,  2.6987e+04],\n",
       "       [ 1.3723e+01,  6.5578e+01,  5.1556e+00,  1.1793e+02,  1.5062e+00,\n",
       "        -3.8943e+01, -7.9531e+01,  5.4292e+00, -2.7994e+01,  1.5941e+02,\n",
       "        -1.7995e+01, -5.9906e+01, -6.1709e+03],\n",
       "       [ 1.0668e+01,  5.1556e+00,  1.7592e+00, -1.2829e+01,  7.8095e+01,\n",
       "         1.0900e+00,  3.3671e-01, -1.0316e-01, -2.0087e-01,  2.7430e+01,\n",
       "        -1.2351e+00, -1.7747e+00,  3.5073e+03],\n",
       "       [-1.3186e+02,  1.1793e+02, -1.2829e+01,  5.7283e+02, -1.2702e+03,\n",
       "        -1.3780e+02, -2.5058e+02,  1.8415e+01, -8.2987e+01,  4.3483e+01,\n",
       "        -3.5293e+01, -1.5564e+02, -7.6268e+04],\n",
       "       [ 5.5262e+02,  1.5062e+00,  7.8095e+01, -1.2702e+03,  4.4910e+03,\n",
       "         2.3822e+02,  3.7768e+02, -3.0399e+01,  1.1454e+02,  8.6166e+02,\n",
       "         9.9330e+00,  1.6767e+02,  2.2980e+05],\n",
       "       [ 2.1257e+01, -3.8943e+01,  1.0900e+00, -1.3780e+02,  2.3822e+02,\n",
       "         3.5857e+01,  6.7435e+01, -4.8492e+00,  2.2756e+01, -4.8981e+01,\n",
       "         1.1237e+01,  4.4575e+01,  1.5907e+04],\n",
       "       [ 3.0029e+01, -7.9531e+01,  3.3671e-01, -2.5058e+02,  3.7768e+02,\n",
       "         6.7435e+01,  1.2852e+02, -9.1637e+00,  4.3683e+01, -1.2082e+02,\n",
       "         2.2699e+01,  8.6937e+01,  2.6915e+04],\n",
       "       [-2.6178e+00,  5.4292e+00, -1.0316e-01,  1.8415e+01, -3.0399e+01,\n",
       "        -4.8492e+00, -9.1637e+00,  6.5694e-01, -3.1004e+00,  7.3657e+00,\n",
       "        -1.5602e+00, -6.1085e+00, -2.0737e+03],\n",
       "       [ 8.3076e+00, -2.7994e+01, -2.0087e-01, -8.2987e+01,  1.1454e+02,\n",
       "         2.2756e+01,  4.3683e+01, -3.1004e+00,  1.4904e+01, -4.6041e+01,\n",
       "         7.9472e+00,  2.9908e+01,  8.5317e+03],\n",
       "       [ 1.3888e+02,  1.5941e+02,  2.7430e+01,  4.3483e+01,  8.6166e+02,\n",
       "        -4.8981e+01, -1.2082e+02,  7.3657e+00, -4.6041e+01,  5.5142e+02,\n",
       "        -4.1767e+01, -1.1333e+02,  2.8929e+04],\n",
       "       [-2.4933e+00, -1.7995e+01, -1.2351e+00, -3.5293e+01,  9.9330e+00,\n",
       "         1.1237e+01,  2.2699e+01, -1.5602e+00,  7.9472e+00, -4.1767e+01,\n",
       "         4.9620e+00,  1.6828e+01,  2.2231e+03],\n",
       "       [ 8.2530e+00, -5.9906e+01, -1.7747e+00, -1.5564e+02,  1.6767e+02,\n",
       "         4.4575e+01,  8.6937e+01, -6.1085e+00,  2.9908e+01, -1.1333e+02,\n",
       "         1.6828e+01,  6.1087e+01,  1.4292e+04],\n",
       "       [ 2.6987e+04, -6.1709e+03,  3.5073e+03, -7.6268e+04,  2.2980e+05,\n",
       "         1.5907e+04,  2.6915e+04, -2.0737e+03,  8.5317e+03,  2.8929e+04,\n",
       "         2.2231e+03,  1.4292e+04,  1.2354e+07]])"
      ]
     },
     "execution_count": 13,
     "metadata": {},
     "output_type": "execute_result"
    }
   ],
   "source": [
    "between_class_scatter_matrix"
   ]
  },
  {
   "cell_type": "code",
   "execution_count": 14,
   "metadata": {},
   "outputs": [],
   "source": [
    "#Eigen vector and values calculation\n",
    "eigen_values, eigen_vectors = np.linalg.eig(np.linalg.inv(within_class_scatter_matrix).dot(between_class_scatter_matrix))"
   ]
  },
  {
   "cell_type": "code",
   "execution_count": 15,
   "metadata": {},
   "outputs": [
    {
     "name": "stdout",
     "output_type": "stream",
     "text": [
      "9.081739435042472\n",
      "4.128469045639484\n",
      "8.881784197001252e-16\n",
      "7.41949604398113e-16\n",
      "7.41949604398113e-16\n",
      "6.57104310784389e-16\n",
      "6.57104310784389e-16\n",
      "2.9039090283069212e-16\n",
      "2.9039090283069212e-16\n",
      "2.58525572226227e-16\n",
      "6.126103277916086e-17\n",
      "6.126103277916086e-17\n",
      "4.86945776983596e-17\n"
     ]
    }
   ],
   "source": [
    "pairs = [ (np.abs(eigen_values[i]), eigen_vectors[:,i]) for i in range(len(eigen_values))]\n",
    "\n",
    "pairs = sorted(pairs, key=lambda x: x[0], reverse=True)\n",
    "\n",
    "for pair in pairs:\n",
    "    print(pair[0])"
   ]
  },
  {
   "cell_type": "code",
   "execution_count": 16,
   "metadata": {},
   "outputs": [
    {
     "name": "stdout",
     "output_type": "stream",
     "text": [
      "Variance Explained\n",
      "Eigenvector 0 : 0.6874788878860784\n",
      "Eigenvector 1 : 0.31252111211392164\n",
      "Eigenvector 2 : 6.723424698398662e-17\n",
      "Eigenvector 3 : 5.616486715430028e-17\n",
      "Eigenvector 4 : 5.616486715430028e-17\n",
      "Eigenvector 5 : 4.9742160522698054e-17\n",
      "Eigenvector 6 : 4.9742160522698054e-17\n",
      "Eigenvector 7 : 2.1982310366664338e-17\n",
      "Eigenvector 8 : 2.1982310366664338e-17\n",
      "Eigenvector 9 : 1.957013567229342e-17\n",
      "Eigenvector 10 : 4.637400906181487e-18\n",
      "Eigenvector 11 : 4.637400906181487e-18\n",
      "Eigenvector 12 : 3.686132415666904e-18\n"
     ]
    }
   ],
   "source": [
    "#print percentage \n",
    "eigen_value_sum = sum(eigen_values)\n",
    "print('Variance Explained')\n",
    "for i, pair in enumerate(pairs):\n",
    "    print('Eigenvector {} : {}'.format(i, (pair[0]/eigen_value_sum).real))"
   ]
  },
  {
   "cell_type": "code",
   "execution_count": 17,
   "metadata": {},
   "outputs": [],
   "source": [
    "#create W matrix with first two eigen vector\n",
    "w_matrix = np.hstack((pairs[0][1].reshape(13,1), pairs[1][1].reshape(13,1))).real"
   ]
  },
  {
   "cell_type": "code",
   "execution_count": 18,
   "metadata": {},
   "outputs": [
    {
     "data": {
      "text/plain": [
       "array([[ 14.13],\n",
       "       [  4.1 ],\n",
       "       [  2.74],\n",
       "       [ 24.5 ],\n",
       "       [ 96.  ],\n",
       "       [  2.05],\n",
       "       [  0.76],\n",
       "       [  0.56],\n",
       "       [  1.35],\n",
       "       [  9.2 ],\n",
       "       [  0.61],\n",
       "       [  1.6 ],\n",
       "       [560.  ]])"
      ]
     },
     "execution_count": 18,
     "metadata": {},
     "output_type": "execute_result"
    }
   ],
   "source": [
    "x"
   ]
  },
  {
   "cell_type": "code",
   "execution_count": 19,
   "metadata": {},
   "outputs": [],
   "source": [
    "w_matrix = np.hstack((pairs[0][1].reshape(13,1), pairs[1][1].reshape(13,1))).real"
   ]
  },
  {
   "cell_type": "code",
   "execution_count": 20,
   "metadata": {},
   "outputs": [
    {
     "data": {
      "text/plain": [
       "array([[-1.4368e-01, -2.5445e-01],\n",
       "       [ 5.8860e-02, -8.9130e-02],\n",
       "       [-1.3146e-01, -6.8467e-01],\n",
       "       [ 5.5136e-02,  4.2724e-02],\n",
       "       [-7.7060e-04,  1.3506e-04],\n",
       "       [ 2.2014e-01,  9.4018e-03],\n",
       "       [-5.9168e-01,  1.4360e-01],\n",
       "       [-5.3278e-01,  4.7602e-01],\n",
       "       [ 4.7761e-02,  8.9628e-02],\n",
       "       [ 1.2646e-01, -7.3909e-02],\n",
       "       [-2.9137e-01,  4.4236e-01],\n",
       "       [-4.1230e-01, -1.4939e-02],\n",
       "       [-9.5856e-04, -8.3269e-04]])"
      ]
     },
     "execution_count": 20,
     "metadata": {},
     "output_type": "execute_result"
    }
   ],
   "source": [
    "w_matrix"
   ]
  },
  {
   "cell_type": "code",
   "execution_count": 21,
   "metadata": {},
   "outputs": [],
   "source": [
    "#lda  where k =2 \n",
    "\n",
    "x_lda = X.dot(w_matrix)"
   ]
  },
  {
   "cell_type": "code",
   "execution_count": 38,
   "metadata": {},
   "outputs": [
    {
     "data": {
      "text/html": [
       "<div>\n",
       "<style scoped>\n",
       "    .dataframe tbody tr th:only-of-type {\n",
       "        vertical-align: middle;\n",
       "    }\n",
       "\n",
       "    .dataframe tbody tr th {\n",
       "        vertical-align: top;\n",
       "    }\n",
       "\n",
       "    .dataframe thead th {\n",
       "        text-align: right;\n",
       "    }\n",
       "</style>\n",
       "<table border=\"1\" class=\"dataframe\">\n",
       "  <thead>\n",
       "    <tr style=\"text-align: right;\">\n",
       "      <th></th>\n",
       "      <th>0</th>\n",
       "      <th>1</th>\n",
       "    </tr>\n",
       "  </thead>\n",
       "  <tbody>\n",
       "    <tr>\n",
       "      <th>0</th>\n",
       "      <td>-4.961962</td>\n",
       "      <td>-4.851209</td>\n",
       "    </tr>\n",
       "    <tr>\n",
       "      <th>1</th>\n",
       "      <td>-4.820100</td>\n",
       "      <td>-4.615169</td>\n",
       "    </tr>\n",
       "    <tr>\n",
       "      <th>2</th>\n",
       "      <td>-4.506220</td>\n",
       "      <td>-4.690671</td>\n",
       "    </tr>\n",
       "    <tr>\n",
       "      <th>3</th>\n",
       "      <td>-4.785834</td>\n",
       "      <td>-5.441868</td>\n",
       "    </tr>\n",
       "    <tr>\n",
       "      <th>4</th>\n",
       "      <td>-3.825653</td>\n",
       "      <td>-4.405262</td>\n",
       "    </tr>\n",
       "    <tr>\n",
       "      <th>...</th>\n",
       "      <td>...</td>\n",
       "      <td>...</td>\n",
       "    </tr>\n",
       "    <tr>\n",
       "      <th>173</th>\n",
       "      <td>-1.759275</td>\n",
       "      <td>-5.263088</td>\n",
       "    </tr>\n",
       "    <tr>\n",
       "      <th>174</th>\n",
       "      <td>-1.683840</td>\n",
       "      <td>-4.881682</td>\n",
       "    </tr>\n",
       "    <tr>\n",
       "      <th>175</th>\n",
       "      <td>-1.490016</td>\n",
       "      <td>-5.206437</td>\n",
       "    </tr>\n",
       "    <tr>\n",
       "      <th>176</th>\n",
       "      <td>-1.764743</td>\n",
       "      <td>-4.983205</td>\n",
       "    </tr>\n",
       "    <tr>\n",
       "      <th>177</th>\n",
       "      <td>-1.315268</td>\n",
       "      <td>-5.161439</td>\n",
       "    </tr>\n",
       "  </tbody>\n",
       "</table>\n",
       "<p>178 rows × 2 columns</p>\n",
       "</div>"
      ],
      "text/plain": [
       "            0         1\n",
       "0   -4.961962 -4.851209\n",
       "1   -4.820100 -4.615169\n",
       "2   -4.506220 -4.690671\n",
       "3   -4.785834 -5.441868\n",
       "4   -3.825653 -4.405262\n",
       "..        ...       ...\n",
       "173 -1.759275 -5.263088\n",
       "174 -1.683840 -4.881682\n",
       "175 -1.490016 -5.206437\n",
       "176 -1.764743 -4.983205\n",
       "177 -1.315268 -5.161439\n",
       "\n",
       "[178 rows x 2 columns]"
      ]
     },
     "execution_count": 38,
     "metadata": {},
     "output_type": "execute_result"
    }
   ],
   "source": [
    "x_lda"
   ]
  },
  {
   "cell_type": "code",
   "execution_count": 41,
   "metadata": {},
   "outputs": [],
   "source": [
    "#matplot lib can't handle categorical variable directly. so encode it.\n",
    "\n",
    "le = LabelEncoder()\n",
    "y = le.fit_transform(wine_ds_df['class'])"
   ]
  },
  {
   "cell_type": "code",
   "execution_count": 46,
   "metadata": {},
   "outputs": [
    {
     "data": {
      "image/png": "[encoded data removed]",
      "text/plain": [
       "<Figure size 432x288 with 1 Axes>"
      ]
     },
     "metadata": {},
     "output_type": "display_data"
    }
   ],
   "source": [
    "#draw graph \n",
    "\n",
    "plt.xlabel('LD 1')\n",
    "plt.xlabel('LD 2')\n",
    "plt.scatter(x_lda[0], x_lda[1], c=y, cmap='rainbow', alpha=0.7, edgecolors='b')\n",
    "plt.show()\n",
    "\n"
   ]
  },
  {
   "cell_type": "markdown",
   "metadata": {},
   "source": [
    "### Preimplemented LDA algorithm"
   ]
  },
  {
   "cell_type": "code",
   "execution_count": 24,
   "metadata": {},
   "outputs": [],
   "source": [
    "from sklearn.discriminant_analysis import LinearDiscriminantAnalysis\n",
    "lda_standard = LinearDiscriminantAnalysis()\n"
   ]
  },
  {
   "cell_type": "code",
   "execution_count": 25,
   "metadata": {},
   "outputs": [],
   "source": [
    "\n",
    "x_lda_standard = lda_standard.fit_transform(X, y)"
   ]
  },
  {
   "cell_type": "code",
   "execution_count": 26,
   "metadata": {},
   "outputs": [
    {
     "data": {
      "text/plain": [
       "array([0.6875, 0.3125])"
      ]
     },
     "execution_count": 26,
     "metadata": {},
     "output_type": "execute_result"
    }
   ],
   "source": [
    "lda_standard.explained_variance_ratio_"
   ]
  },
  {
   "cell_type": "code",
   "execution_count": 27,
   "metadata": {},
   "outputs": [
    {
     "data": {
      "text/plain": [
       "<matplotlib.collections.PathCollection at 0x217ea1e28c8>"
      ]
     },
     "execution_count": 27,
     "metadata": {},
     "output_type": "execute_result"
    },
    {
     "data": {
      "image/png": "[encoded data removed]",
      "text/plain": [
       "<Figure size 432x288 with 1 Axes>"
      ]
     },
     "metadata": {},
     "output_type": "display_data"
    }
   ],
   "source": [
    "plt.xlabel('LD 1')\n",
    "plt.xlabel('LD 2')\n",
    "plt.scatter(x_lda_standard[:,0], x_lda_standard[:,1], c=y, cmap='rainbow', alpha=0.7, edgecolors='b')\n"
   ]
  },
  {
   "cell_type": "markdown",
   "metadata": {},
   "source": [
    "### Apply PCA  "
   ]
  },
  {
   "cell_type": "code",
   "execution_count": 28,
   "metadata": {},
   "outputs": [],
   "source": [
    "from sklearn.decomposition import PCA\n",
    "pca = PCA(n_components=2)\n",
    "x_pca_standard = pca.fit_transform(X,y)"
   ]
  },
  {
   "cell_type": "code",
   "execution_count": 29,
   "metadata": {},
   "outputs": [
    {
     "data": {
      "text/plain": [
       "array([0.9981, 0.0017])"
      ]
     },
     "execution_count": 29,
     "metadata": {},
     "output_type": "execute_result"
    }
   ],
   "source": [
    "pca.explained_variance_ratio_"
   ]
  },
  {
   "cell_type": "code",
   "execution_count": 30,
   "metadata": {},
   "outputs": [
    {
     "data": {
      "text/plain": [
       "<matplotlib.collections.PathCollection at 0x217ea2425c8>"
      ]
     },
     "execution_count": 30,
     "metadata": {},
     "output_type": "execute_result"
    },
    {
     "data": {
      "image/png": "[encoded data removed]",
      "text/plain": [
       "<Figure size 432x288 with 1 Axes>"
      ]
     },
     "metadata": {},
     "output_type": "display_data"
    }
   ],
   "source": [
    "plt.xlabel('PC1')\n",
    "plt.ylabel('PC2')\n",
    "plt.scatter(x_pca_standard[:,0],x_pca_standard[:,1], c=y, cmap='rainbow', alpha=0.7, edgecolors='b')\n"
   ]
  },
  {
   "cell_type": "markdown",
   "metadata": {},
   "source": [
    "### Building DecisionTree"
   ]
  },
  {
   "cell_type": "code",
   "execution_count": 31,
   "metadata": {},
   "outputs": [],
   "source": [
    "x_train, x_test, y_train, y_test = train_test_split(x_lda, y, random_state=1)"
   ]
  },
  {
   "cell_type": "code",
   "execution_count": 32,
   "metadata": {},
   "outputs": [],
   "source": [
    "decision_tree = DecisionTreeClassifier()\n"
   ]
  },
  {
   "cell_type": "code",
   "execution_count": 33,
   "metadata": {},
   "outputs": [
    {
     "data": {
      "text/plain": [
       "DecisionTreeClassifier(ccp_alpha=0.0, class_weight=None, criterion='gini',\n",
       "                       max_depth=None, max_features=None, max_leaf_nodes=None,\n",
       "                       min_impurity_decrease=0.0, min_impurity_split=None,\n",
       "                       min_samples_leaf=1, min_samples_split=2,\n",
       "                       min_weight_fraction_leaf=0.0, presort='deprecated',\n",
       "                       random_state=None, splitter='best')"
      ]
     },
     "execution_count": 33,
     "metadata": {},
     "output_type": "execute_result"
    }
   ],
   "source": [
    "decision_tree.fit(x_train, y_train)\n"
   ]
  },
  {
   "cell_type": "code",
   "execution_count": 34,
   "metadata": {},
   "outputs": [],
   "source": [
    "y_predict = decision_tree.predict(x_test)"
   ]
  },
  {
   "cell_type": "code",
   "execution_count": 35,
   "metadata": {},
   "outputs": [
    {
     "data": {
      "text/plain": [
       "array([[18,  0,  0],\n",
       "       [ 0, 17,  0],\n",
       "       [ 0,  0, 10]], dtype=int64)"
      ]
     },
     "execution_count": 35,
     "metadata": {},
     "output_type": "execute_result"
    }
   ],
   "source": [
    "confusion_matrix(y_test, y_predict)"
   ]
  },
  {
   "cell_type": "code",
   "execution_count": 36,
   "metadata": {},
   "outputs": [
    {
     "name": "stdout",
     "output_type": "stream",
     "text": [
      "Classification Report :                precision    recall  f1-score   support\n",
      "\n",
      "           0       1.00      1.00      1.00        18\n",
      "           1       1.00      1.00      1.00        17\n",
      "           2       1.00      1.00      1.00        10\n",
      "\n",
      "    accuracy                           1.00        45\n",
      "   macro avg       1.00      1.00      1.00        45\n",
      "weighted avg       1.00      1.00      1.00        45\n",
      "\n"
     ]
    }
   ],
   "source": [
    "print('Classification Report : ',classification_report(y_test, y_predict))"
   ]
  },
  {
   "cell_type": "code",
   "execution_count": 37,
   "metadata": {},
   "outputs": [
    {
     "name": "stdout",
     "output_type": "stream",
     "text": [
      "F1 score :  1.0\n"
     ]
    }
   ],
   "source": [
    "print('F1 score : ', f1_score(y_test, y_predict, average='micro')) # average types requires revisit"
   ]
  },
  {
   "cell_type": "markdown",
   "metadata": {},
   "source": [
    "### comparision using Decision Tree without applying LDA dataset "
   ]
  },
  {
   "cell_type": "code",
   "execution_count": 53,
   "metadata": {},
   "outputs": [],
   "source": [
    "x_train_simple, x_test_simple, y_train_simple, y_test_simple = train_test_split(X, y, random_state=1)"
   ]
  },
  {
   "cell_type": "code",
   "execution_count": 54,
   "metadata": {},
   "outputs": [
    {
     "data": {
      "text/plain": [
       "DecisionTreeClassifier(ccp_alpha=0.0, class_weight=None, criterion='gini',\n",
       "                       max_depth=None, max_features=None, max_leaf_nodes=None,\n",
       "                       min_impurity_decrease=0.0, min_impurity_split=None,\n",
       "                       min_samples_leaf=1, min_samples_split=2,\n",
       "                       min_weight_fraction_leaf=0.0, presort='deprecated',\n",
       "                       random_state=None, splitter='best')"
      ]
     },
     "execution_count": 54,
     "metadata": {},
     "output_type": "execute_result"
    }
   ],
   "source": [
    "decision_tree_simple = DecisionTreeClassifier()\n",
    "decision_tree_simple.fit(x_train_simple, y_train_simple)"
   ]
  },
  {
   "cell_type": "code",
   "execution_count": 55,
   "metadata": {},
   "outputs": [],
   "source": [
    "predicted_result_simple = decision_tree_simple.predict(x_test_simple)"
   ]
  },
  {
   "cell_type": "code",
   "execution_count": 57,
   "metadata": {},
   "outputs": [
    {
     "name": "stdout",
     "output_type": "stream",
     "text": [
      "confusion matrix : \n",
      " [[18  1  0]\n",
      " [ 0 15  0]\n",
      " [ 0  1 10]]\n"
     ]
    }
   ],
   "source": [
    "print('confusion matrix : \\n', confusion_matrix(predicted_result_simple, y_test_simple))"
   ]
  },
  {
   "cell_type": "code",
   "execution_count": 58,
   "metadata": {},
   "outputs": [
    {
     "name": "stdout",
     "output_type": "stream",
     "text": [
      "F1 core :  0.9542846417846418\n"
     ]
    }
   ],
   "source": [
    "print('F1 core : ', f1_score(y_test_simple, predicted_result_simple, average='macro'))"
   ]
  },
  {
   "cell_type": "markdown",
   "metadata": {},
   "source": [
    "### test sample "
   ]
  },
  {
   "cell_type": "code",
   "execution_count": 60,
   "metadata": {},
   "outputs": [],
   "source": [
    "#use entire dataset for testing \n",
    "#1. use decision tree got trained using LDA \n",
    "predicted_result1 = decision_tree.predict(x_lda)"
   ]
  },
  {
   "cell_type": "code",
   "execution_count": 61,
   "metadata": {},
   "outputs": [
    {
     "name": "stdout",
     "output_type": "stream",
     "text": [
      "confusion matrix - test 1 \n",
      " [[59  0  0]\n",
      " [ 0 71  0]\n",
      " [ 0  0 48]]\n"
     ]
    }
   ],
   "source": [
    "print('confusion matrix - test 1 \\n', confusion_matrix(y, predicted_result1))"
   ]
  },
  {
   "cell_type": "code",
   "execution_count": 62,
   "metadata": {},
   "outputs": [],
   "source": [
    "#2. use decision tree on normal dataset "
   ]
  },
  {
   "cell_type": "code",
   "execution_count": 63,
   "metadata": {},
   "outputs": [],
   "source": [
    "predicted_result2 = decision_tree_simple.predict(X)"
   ]
  },
  {
   "cell_type": "code",
   "execution_count": null,
   "metadata": {},
   "outputs": [],
   "source": []
  },
  {
   "cell_type": "code",
   "execution_count": 64,
   "metadata": {},
   "outputs": [
    {
     "name": "stdout",
     "output_type": "stream",
     "text": [
      "confusion matrix - test 2 \n",
      " [[59  0  0]\n",
      " [ 1 69  1]\n",
      " [ 0  0 48]]\n"
     ]
    }
   ],
   "source": [
    "print('confusion matrix - test 2 \\n', confusion_matrix(y, predicted_result2))"
   ]
  },
  {
   "cell_type": "code",
   "execution_count": null,
   "metadata": {},
   "outputs": [],
   "source": []
  }
 ],
 "metadata": {
  "kernelspec": {
   "display_name": "Python 3",
   "language": "python",
   "name": "python3"
  },
  "language_info": {
   "codemirror_mode": {
    "name": "ipython",
    "version": 3
   },
   "file_extension": ".py",
   "mimetype": "text/x-python",
   "name": "python",
   "nbconvert_exporter": "python",
   "pygments_lexer": "ipython3",
   "version": "3.7.6"
  }
 },
 "nbformat": 4,
 "nbformat_minor": 4
}
