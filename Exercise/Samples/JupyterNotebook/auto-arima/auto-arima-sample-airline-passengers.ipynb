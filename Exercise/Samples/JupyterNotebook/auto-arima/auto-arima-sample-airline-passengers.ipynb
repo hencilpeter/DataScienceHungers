{
 "cells": [
  {
   "cell_type": "markdown",
   "metadata": {},
   "source": [
    "## Auto ARIMA sample \n",
    "### code source : https://www.analyticsvidhya.com/blog/2018/08/auto-arima-time-series-modeling-python-r/\n",
    "### source - PMDArima - http://alkaline-ml.com/pmdarima/quickstart.html#quickstart"
   ]
  },
  {
   "cell_type": "code",
   "execution_count": 1,
   "metadata": {},
   "outputs": [],
   "source": [
    "import numpy as np\n",
    "import pandas as pd \n",
    "from matplotlib import pyplot as plt\n",
    "#pyramid-arima has been deprecated for years. Use pip install pmdarima   \n",
    "#from pyramid.arima import auto_arima\n",
    "\n",
    "import pmdarima as pmd"
   ]
  },
  {
   "cell_type": "code",
   "execution_count": 2,
   "metadata": {},
   "outputs": [],
   "source": [
    "#load dataset\n",
    "passenger_data =pd.read_csv('..\\data\\passengers\\international-airline-passengers.csv',sep=';')"
   ]
  },
  {
   "cell_type": "code",
   "execution_count": 3,
   "metadata": {},
   "outputs": [
    {
     "data": {
      "text/html": [
       "<div>\n",
       "<style scoped>\n",
       "    .dataframe tbody tr th:only-of-type {\n",
       "        vertical-align: middle;\n",
       "    }\n",
       "\n",
       "    .dataframe tbody tr th {\n",
       "        vertical-align: top;\n",
       "    }\n",
       "\n",
       "    .dataframe thead th {\n",
       "        text-align: right;\n",
       "    }\n",
       "</style>\n",
       "<table border=\"1\" class=\"dataframe\">\n",
       "  <thead>\n",
       "    <tr style=\"text-align: right;\">\n",
       "      <th></th>\n",
       "      <th>Month</th>\n",
       "      <th>Passengers</th>\n",
       "    </tr>\n",
       "  </thead>\n",
       "  <tbody>\n",
       "    <tr>\n",
       "      <th>0</th>\n",
       "      <td>1949-01</td>\n",
       "      <td>112</td>\n",
       "    </tr>\n",
       "    <tr>\n",
       "      <th>1</th>\n",
       "      <td>1949-02</td>\n",
       "      <td>118</td>\n",
       "    </tr>\n",
       "    <tr>\n",
       "      <th>2</th>\n",
       "      <td>1949-03</td>\n",
       "      <td>132</td>\n",
       "    </tr>\n",
       "    <tr>\n",
       "      <th>3</th>\n",
       "      <td>1949-04</td>\n",
       "      <td>129</td>\n",
       "    </tr>\n",
       "    <tr>\n",
       "      <th>4</th>\n",
       "      <td>1949-05</td>\n",
       "      <td>121</td>\n",
       "    </tr>\n",
       "  </tbody>\n",
       "</table>\n",
       "</div>"
      ],
      "text/plain": [
       "     Month  Passengers\n",
       "0  1949-01         112\n",
       "1  1949-02         118\n",
       "2  1949-03         132\n",
       "3  1949-04         129\n",
       "4  1949-05         121"
      ]
     },
     "execution_count": 3,
     "metadata": {},
     "output_type": "execute_result"
    }
   ],
   "source": [
    "passenger_data.head()"
   ]
  },
  {
   "cell_type": "code",
   "execution_count": 4,
   "metadata": {},
   "outputs": [],
   "source": [
    "#divide data into train and validation set\n",
    "train_dataset = passenger_data[:int(0.7*(len(passenger_data)))]\n",
    "valid_dataset = passenger_data[int(0.7*(len(passenger_data))):]\n",
    "\n"
   ]
  },
  {
   "cell_type": "code",
   "execution_count": 5,
   "metadata": {},
   "outputs": [
    {
     "name": "stderr",
     "output_type": "stream",
     "text": [
      "C:\\Users\\henci\\anaconda3\\lib\\site-packages\\pandas\\core\\frame.py:3997: SettingWithCopyWarning: \n",
      "A value is trying to be set on a copy of a slice from a DataFrame\n",
      "\n",
      "See the caveats in the documentation: https://pandas.pydata.org/pandas-docs/stable/user_guide/indexing.html#returning-a-view-versus-a-copy\n",
      "  errors=errors,\n"
     ]
    }
   ],
   "source": [
    "#preprocessing - as ARIMA requires univariate series as input\n",
    "train_dataset.drop('Month', axis=1, inplace=True)\n",
    "valid_dataset.drop('Month', axis=1, inplace=True)\n"
   ]
  },
  {
   "cell_type": "code",
   "execution_count": 6,
   "metadata": {},
   "outputs": [
    {
     "data": {
      "text/plain": [
       "<matplotlib.axes._subplots.AxesSubplot at 0x2670562f188>"
      ]
     },
     "execution_count": 6,
     "metadata": {},
     "output_type": "execute_result"
    },
    {
     "data": {
      "image/png": "[encoded data removed]",
      "text/plain": [
       "<Figure size 432x288 with 1 Axes>"
      ]
     },
     "metadata": {
      "needs_background": "light"
     },
     "output_type": "display_data"
    }
   ],
   "source": [
    "#plotting the data\n",
    "train_dataset['Passengers'].plot()\n",
    "valid_dataset['Passengers'].plot()"
   ]
  },
  {
   "cell_type": "code",
   "execution_count": 7,
   "metadata": {},
   "outputs": [
    {
     "name": "stdout",
     "output_type": "stream",
     "text": [
      "Performing stepwise search to minimize aic\n",
      "Fit ARIMA(2,1,2)x(0,0,0,0) [intercept=True]; AIC=886.147, BIC=901.718, Time=0.312 seconds\n",
      "Fit ARIMA(0,1,0)x(0,0,0,0) [intercept=True]; AIC=909.769, BIC=914.959, Time=0.008 seconds\n",
      "Fit ARIMA(1,1,0)x(0,0,0,0) [intercept=True]; AIC=907.370, BIC=915.155, Time=0.040 seconds\n",
      "Fit ARIMA(0,1,1)x(0,0,0,0) [intercept=True]; AIC=904.979, BIC=912.764, Time=0.046 seconds\n",
      "Fit ARIMA(0,1,0)x(0,0,0,0) [intercept=False]; AIC=908.785, BIC=911.380, Time=0.006 seconds\n",
      "Fit ARIMA(1,1,2)x(0,0,0,0) [intercept=True]; AIC=884.966, BIC=897.942, Time=0.142 seconds\n",
      "Near non-invertible roots for order (1, 1, 2)(0, 0, 0, 0); setting score to inf (at least one inverse root too close to the border of the unit circle: 1.000)\n",
      "Fit ARIMA(2,1,1)x(0,0,0,0) [intercept=True]; AIC=884.152, BIC=897.128, Time=0.189 seconds\n",
      "Near non-invertible roots for order (2, 1, 1)(0, 0, 0, 0); setting score to inf (at least one inverse root too close to the border of the unit circle: 1.000)\n",
      "Fit ARIMA(3,1,2)x(0,0,0,0) [intercept=True]; AIC=882.263, BIC=900.429, Time=0.205 seconds\n",
      "Near non-invertible roots for order (3, 1, 2)(0, 0, 0, 0); setting score to inf (at least one inverse root too close to the border of the unit circle: 0.999)\n",
      "Fit ARIMA(2,1,3)x(0,0,0,0) [intercept=True]; AIC=885.874, BIC=904.040, Time=0.265 seconds\n",
      "Near non-invertible roots for order (2, 1, 3)(0, 0, 0, 0); setting score to inf (at least one inverse root too close to the border of the unit circle: 1.000)\n",
      "Fit ARIMA(1,1,1)x(0,0,0,0) [intercept=True]; AIC=900.136, BIC=910.517, Time=0.072 seconds\n",
      "Fit ARIMA(1,1,3)x(0,0,0,0) [intercept=True]; AIC=886.831, BIC=902.402, Time=0.231 seconds\n",
      "Near non-invertible roots for order (1, 1, 3)(0, 0, 0, 0); setting score to inf (at least one inverse root too close to the border of the unit circle: 1.000)\n",
      "Fit ARIMA(3,1,1)x(0,0,0,0) [intercept=True]; AIC=885.632, BIC=901.203, Time=0.221 seconds\n",
      "Near non-invertible roots for order (3, 1, 1)(0, 0, 0, 0); setting score to inf (at least one inverse root too close to the border of the unit circle: 1.000)\n",
      "Fit ARIMA(3,1,3)x(0,0,0,0) [intercept=True]; AIC=873.583, BIC=894.344, Time=0.276 seconds\n",
      "Near non-invertible roots for order (3, 1, 3)(0, 0, 0, 0); setting score to inf (at least one inverse root too close to the border of the unit circle: 1.000)\n",
      "Total fit time: 2.040 seconds\n"
     ]
    },
    {
     "data": {
      "text/plain": [
       "ARIMA(maxiter=50, method='lbfgs', order=(3, 1, 3), out_of_sample_size=0,\n",
       "      scoring='mse', scoring_args=None, seasonal_order=(0, 0, 0, 0),\n",
       "      start_params=None, suppress_warnings=True, trend=None,\n",
       "      with_intercept=True)"
      ]
     },
     "execution_count": 7,
     "metadata": {},
     "output_type": "execute_result"
    }
   ],
   "source": [
    "#building the model\n",
    "arima_model = pmd.auto_arima(y=train_dataset, trace=True, error_action='ignore',suppress_warnings=True)\n",
    "\n",
    "#important parameters \n",
    "#start_p=1, start_q=1, \n",
    "#max_p=3, max_q=3, m=12,\n",
    "#start_P=0, seasonal=True,\n",
    "#d=1, D=1, trace=True,\n",
    "#error_action='ignore',  # don't want to know if an order does not work\n",
    "#suppress_warnings=True,  # don't want convergence warnings\n",
    "#stepwise=True\n",
    "                        \n",
    "arima_model.fit(train_dataset)"
   ]
  },
  {
   "cell_type": "code",
   "execution_count": 8,
   "metadata": {},
   "outputs": [
    {
     "data": {
      "text/html": [
       "<table class=\"simpletable\">\n",
       "<caption>SARIMAX Results</caption>\n",
       "<tr>\n",
       "  <th>Dep. Variable:</th>           <td>y</td>        <th>  No. Observations:  </th>    <td>100</td>  \n",
       "</tr>\n",
       "<tr>\n",
       "  <th>Model:</th>           <td>SARIMAX(3, 1, 3)</td> <th>  Log Likelihood     </th> <td>-428.791</td>\n",
       "</tr>\n",
       "<tr>\n",
       "  <th>Date:</th>            <td>Sun, 12 Jul 2020</td> <th>  AIC                </th>  <td>873.583</td>\n",
       "</tr>\n",
       "<tr>\n",
       "  <th>Time:</th>                <td>22:04:20</td>     <th>  BIC                </th>  <td>894.344</td>\n",
       "</tr>\n",
       "<tr>\n",
       "  <th>Sample:</th>                  <td>0</td>        <th>  HQIC               </th>  <td>881.982</td>\n",
       "</tr>\n",
       "<tr>\n",
       "  <th></th>                      <td> - 100</td>      <th>                     </th>     <td> </td>   \n",
       "</tr>\n",
       "<tr>\n",
       "  <th>Covariance Type:</th>        <td>opg</td>       <th>                     </th>     <td> </td>   \n",
       "</tr>\n",
       "</table>\n",
       "<table class=\"simpletable\">\n",
       "<tr>\n",
       "      <td></td>         <th>coef</th>     <th>std err</th>      <th>z</th>      <th>P>|z|</th>  <th>[0.025</th>    <th>0.975]</th>  \n",
       "</tr>\n",
       "<tr>\n",
       "  <th>intercept</th> <td>    0.9964</td> <td>    0.359</td> <td>    2.778</td> <td> 0.005</td> <td>    0.293</td> <td>    1.700</td>\n",
       "</tr>\n",
       "<tr>\n",
       "  <th>ar.L1</th>     <td>    0.8181</td> <td>    0.100</td> <td>    8.161</td> <td> 0.000</td> <td>    0.622</td> <td>    1.015</td>\n",
       "</tr>\n",
       "<tr>\n",
       "  <th>ar.L2</th>     <td>    0.4024</td> <td>    0.139</td> <td>    2.890</td> <td> 0.004</td> <td>    0.130</td> <td>    0.675</td>\n",
       "</tr>\n",
       "<tr>\n",
       "  <th>ar.L3</th>     <td>   -0.6726</td> <td>    0.088</td> <td>   -7.640</td> <td> 0.000</td> <td>   -0.845</td> <td>   -0.500</td>\n",
       "</tr>\n",
       "<tr>\n",
       "  <th>ma.L1</th>     <td>   -0.8148</td> <td>    5.402</td> <td>   -0.151</td> <td> 0.880</td> <td>  -11.403</td> <td>    9.773</td>\n",
       "</tr>\n",
       "<tr>\n",
       "  <th>ma.L2</th>     <td>   -0.9201</td> <td>    9.804</td> <td>   -0.094</td> <td> 0.925</td> <td>  -20.135</td> <td>   18.295</td>\n",
       "</tr>\n",
       "<tr>\n",
       "  <th>ma.L3</th>     <td>    0.8943</td> <td>    4.833</td> <td>    0.185</td> <td> 0.853</td> <td>   -8.579</td> <td>   10.367</td>\n",
       "</tr>\n",
       "<tr>\n",
       "  <th>sigma2</th>    <td>  319.8175</td> <td> 1719.672</td> <td>    0.186</td> <td> 0.852</td> <td>-3050.678</td> <td> 3690.313</td>\n",
       "</tr>\n",
       "</table>\n",
       "<table class=\"simpletable\">\n",
       "<tr>\n",
       "  <th>Ljung-Box (Q):</th>          <td>165.84</td> <th>  Jarque-Bera (JB):  </th> <td>3.49</td>\n",
       "</tr>\n",
       "<tr>\n",
       "  <th>Prob(Q):</th>                 <td>0.00</td>  <th>  Prob(JB):          </th> <td>0.17</td>\n",
       "</tr>\n",
       "<tr>\n",
       "  <th>Heteroskedasticity (H):</th>  <td>3.40</td>  <th>  Skew:              </th> <td>0.43</td>\n",
       "</tr>\n",
       "<tr>\n",
       "  <th>Prob(H) (two-sided):</th>     <td>0.00</td>  <th>  Kurtosis:          </th> <td>2.67</td>\n",
       "</tr>\n",
       "</table><br/><br/>Warnings:<br/>[1] Covariance matrix calculated using the outer product of gradients (complex-step)."
      ],
      "text/plain": [
       "<class 'statsmodels.iolib.summary.Summary'>\n",
       "\"\"\"\n",
       "                               SARIMAX Results                                \n",
       "==============================================================================\n",
       "Dep. Variable:                      y   No. Observations:                  100\n",
       "Model:               SARIMAX(3, 1, 3)   Log Likelihood                -428.791\n",
       "Date:                Sun, 12 Jul 2020   AIC                            873.583\n",
       "Time:                        22:04:20   BIC                            894.344\n",
       "Sample:                             0   HQIC                           881.982\n",
       "                                - 100                                         \n",
       "Covariance Type:                  opg                                         \n",
       "==============================================================================\n",
       "                 coef    std err          z      P>|z|      [0.025      0.975]\n",
       "------------------------------------------------------------------------------\n",
       "intercept      0.9964      0.359      2.778      0.005       0.293       1.700\n",
       "ar.L1          0.8181      0.100      8.161      0.000       0.622       1.015\n",
       "ar.L2          0.4024      0.139      2.890      0.004       0.130       0.675\n",
       "ar.L3         -0.6726      0.088     -7.640      0.000      -0.845      -0.500\n",
       "ma.L1         -0.8148      5.402     -0.151      0.880     -11.403       9.773\n",
       "ma.L2         -0.9201      9.804     -0.094      0.925     -20.135      18.295\n",
       "ma.L3          0.8943      4.833      0.185      0.853      -8.579      10.367\n",
       "sigma2       319.8175   1719.672      0.186      0.852   -3050.678    3690.313\n",
       "===================================================================================\n",
       "Ljung-Box (Q):                      165.84   Jarque-Bera (JB):                 3.49\n",
       "Prob(Q):                              0.00   Prob(JB):                         0.17\n",
       "Heteroskedasticity (H):               3.40   Skew:                             0.43\n",
       "Prob(H) (two-sided):                  0.00   Kurtosis:                         2.67\n",
       "===================================================================================\n",
       "\n",
       "Warnings:\n",
       "[1] Covariance matrix calculated using the outer product of gradients (complex-step).\n",
       "\"\"\""
      ]
     },
     "execution_count": 8,
     "metadata": {},
     "output_type": "execute_result"
    }
   ],
   "source": [
    "#print summary\n",
    "arima_model.summary()"
   ]
  },
  {
   "cell_type": "code",
   "execution_count": 9,
   "metadata": {},
   "outputs": [],
   "source": [
    "predicted_result = arima_model.predict(n_periods=len(valid_dataset))\n"
   ]
  },
  {
   "cell_type": "code",
   "execution_count": 10,
   "metadata": {},
   "outputs": [],
   "source": [
    "#convert to dataframe\n",
    "predicted_result = pd.DataFrame(predicted_result, index=valid_dataset.index, columns=['Prediction'])"
   ]
  },
  {
   "cell_type": "code",
   "execution_count": 14,
   "metadata": {},
   "outputs": [
    {
     "data": {
      "image/png": "[encoded data removed]",
      "text/plain": [
       "<Figure size 432x288 with 1 Axes>"
      ]
     },
     "metadata": {
      "needs_background": "light"
     },
     "output_type": "display_data"
    }
   ],
   "source": [
    "#plot the predicted result \n",
    "plt.plot(train_dataset, label='training dataset')\n",
    "plt.plot(valid_dataset, label='validation dataset')\n",
    "plt.plot(predicted_result, label='prediction')\n",
    "plt.legend()\n",
    "plt.show()"
   ]
  },
  {
   "cell_type": "code",
   "execution_count": null,
   "metadata": {},
   "outputs": [],
   "source": []
  },
  {
   "cell_type": "code",
   "execution_count": null,
   "metadata": {},
   "outputs": [],
   "source": []
  },
  {
   "cell_type": "code",
   "execution_count": null,
   "metadata": {},
   "outputs": [],
   "source": []
  }
 ],
 "metadata": {
  "kernelspec": {
   "display_name": "Python 3",
   "language": "python",
   "name": "python3"
  },
  "language_info": {
   "codemirror_mode": {
    "name": "ipython",
    "version": 3
   },
   "file_extension": ".py",
   "mimetype": "text/x-python",
   "name": "python",
   "nbconvert_exporter": "python",
   "pygments_lexer": "ipython3",
   "version": "3.7.6"
  }
 },
 "nbformat": 4,
 "nbformat_minor": 4
}
